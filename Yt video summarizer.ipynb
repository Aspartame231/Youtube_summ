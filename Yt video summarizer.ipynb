{
 "cells": [
  {
   "cell_type": "code",
   "execution_count": 1,
   "id": "f5208aa1",
   "metadata": {},
   "outputs": [
    {
     "name": "stdout",
     "output_type": "stream",
     "text": [
      "Requirement already satisfied: IPython in c:\\users\\admin\\anaconda3\\lib\\site-packages (8.2.0)\n",
      "Requirement already satisfied: decorator in c:\\users\\admin\\anaconda3\\lib\\site-packages (from IPython) (5.1.1)\n",
      "Note: you may need to restart the kernel to use updated packages.\n",
      "Requirement already satisfied: pygments>=2.4.0 in c:\\users\\admin\\anaconda3\\lib\\site-packages (from IPython) (2.11.2)\n",
      "Requirement already satisfied: setuptools>=18.5 in c:\\users\\admin\\anaconda3\\lib\\site-packages (from IPython) (61.2.0)\n",
      "Requirement already satisfied: pickleshare in c:\\users\\admin\\anaconda3\\lib\\site-packages (from IPython) (0.7.5)\n",
      "Requirement already satisfied: colorama in c:\\users\\admin\\anaconda3\\lib\\site-packages (from IPython) (0.4.4)\n",
      "Requirement already satisfied: matplotlib-inline in c:\\users\\admin\\anaconda3\\lib\\site-packages (from IPython) (0.1.2)\n",
      "Requirement already satisfied: traitlets>=5 in c:\\users\\admin\\anaconda3\\lib\\site-packages (from IPython) (5.1.1)\n",
      "Requirement already satisfied: jedi>=0.16 in c:\\users\\admin\\anaconda3\\lib\\site-packages (from IPython) (0.18.1)\n",
      "Requirement already satisfied: prompt-toolkit!=3.0.0,!=3.0.1,<3.1.0,>=2.0.0 in c:\\users\\admin\\anaconda3\\lib\\site-packages (from IPython) (3.0.20)\n",
      "Requirement already satisfied: stack-data in c:\\users\\admin\\anaconda3\\lib\\site-packages (from IPython) (0.2.0)\n",
      "Requirement already satisfied: backcall in c:\\users\\admin\\anaconda3\\lib\\site-packages (from IPython) (0.2.0)\n",
      "Requirement already satisfied: parso<0.9.0,>=0.8.0 in c:\\users\\admin\\anaconda3\\lib\\site-packages (from jedi>=0.16->IPython) (0.8.3)\n",
      "Requirement already satisfied: wcwidth in c:\\users\\admin\\anaconda3\\lib\\site-packages (from prompt-toolkit!=3.0.0,!=3.0.1,<3.1.0,>=2.0.0->IPython) (0.2.5)\n",
      "Requirement already satisfied: executing in c:\\users\\admin\\anaconda3\\lib\\site-packages (from stack-data->IPython) (0.8.3)\n",
      "Requirement already satisfied: asttokens in c:\\users\\admin\\anaconda3\\lib\\site-packages (from stack-data->IPython) (2.0.5)\n",
      "Requirement already satisfied: pure-eval in c:\\users\\admin\\anaconda3\\lib\\site-packages (from stack-data->IPython) (0.2.2)\n",
      "Requirement already satisfied: six in c:\\users\\admin\\anaconda3\\lib\\site-packages (from asttokens->stack-data->IPython) (1.16.0)\n"
     ]
    }
   ],
   "source": [
    "pip install IPython\n"
   ]
  },
  {
   "cell_type": "code",
   "execution_count": 2,
   "id": "799c3319",
   "metadata": {},
   "outputs": [],
   "source": [
    "from IPython.display import YouTubeVideo\n"
   ]
  },
  {
   "cell_type": "code",
   "execution_count": 3,
   "id": "9374e851",
   "metadata": {},
   "outputs": [],
   "source": [
    "x=\"https://www.youtube.com/watch?v=EumuGqXQFNY\""
   ]
  },
  {
   "cell_type": "code",
   "execution_count": 4,
   "id": "18dc0187",
   "metadata": {},
   "outputs": [],
   "source": [
    "video_id=x.split(\"=\")[1]"
   ]
  },
  {
   "cell_type": "code",
   "execution_count": 7,
   "id": "3c6fcc40",
   "metadata": {},
   "outputs": [],
   "source": [
    "transcript=YouTubeTranscriptApi.get_transcript(video_id)"
   ]
  },
  {
   "cell_type": "code",
   "execution_count": 6,
   "id": "095dd3a6",
   "metadata": {},
   "outputs": [
    {
     "name": "stdout",
     "output_type": "stream",
     "text": [
      "Collecting youtube_transcript_api\n",
      "  Downloading youtube_transcript_api-0.4.4-py3-none-any.whl (22 kB)\n",
      "Requirement already satisfied: requests in c:\\users\\admin\\anaconda3\\lib\\site-packages (from youtube_transcript_api) (2.27.1)\n",
      "Requirement already satisfied: charset-normalizer~=2.0.0 in c:\\users\\admin\\anaconda3\\lib\\site-packages (from requests->youtube_transcript_api) (2.0.4)\n",
      "Requirement already satisfied: urllib3<1.27,>=1.21.1 in c:\\users\\admin\\anaconda3\\lib\\site-packages (from requests->youtube_transcript_api) (1.26.9)\n",
      "Requirement already satisfied: idna<4,>=2.5 in c:\\users\\admin\\anaconda3\\lib\\site-packages (from requests->youtube_transcript_api) (3.3)\n",
      "Requirement already satisfied: certifi>=2017.4.17 in c:\\users\\admin\\anaconda3\\lib\\site-packages (from requests->youtube_transcript_api) (2021.10.8)\n",
      "Installing collected packages: youtube-transcript-api\n",
      "Successfully installed youtube-transcript-api-0.4.4\n",
      "Note: you may need to restart the kernel to use updated packages.\n"
     ]
    }
   ],
   "source": [
    "pip install youtube_transcript_api"
   ]
  },
  {
   "cell_type": "code",
   "execution_count": 6,
   "id": "fbfe8999",
   "metadata": {},
   "outputs": [],
   "source": [
    "from youtube_transcript_api import YouTubeTranscriptApi"
   ]
  },
  {
   "cell_type": "code",
   "execution_count": 8,
   "id": "2a2eea86",
   "metadata": {},
   "outputs": [],
   "source": [
    "res=\"\"\n",
    "for i in transcript:\n",
    "    res+=' '+i['text']"
   ]
  },
  {
   "cell_type": "code",
   "execution_count": 9,
   "id": "e70cdb7d",
   "metadata": {},
   "outputs": [
    {
     "data": {
      "text/plain": [
       "7648"
      ]
     },
     "execution_count": 9,
     "metadata": {},
     "output_type": "execute_result"
    }
   ],
   "source": [
    "len(res)"
   ]
  },
  {
   "cell_type": "code",
   "execution_count": 10,
   "id": "2d39bcf6",
   "metadata": {},
   "outputs": [
    {
     "data": {
      "text/plain": [
       "\" welcome back to tennis talk my name is Cam Williams and the rankings are in for this week we've had a couple of changes to the top 10 for the men uh not too many change on the women's side because most of the big names haven't played this week let's go have a look at the big names that have played in the results from last week starting on the WTA and we had two tournaments last week final tournament on clay at the Poland open with Garcia defeating bogsand in the final six four six one backing up the win against srientek earlier in the week so Garcia capping off a very good week for her and she got rewarded in the rankings and at the Prague opened we had buscova defeating potipova six love six three in the first official hardcore match back since about March because of course we had the clay and Grass Court season so was covert gets a good start on the hard courts and Garcia caps off a very good week going over to the men's side now and again the same for them with the last clay Court events of the Season Batista gu wanted the Austrian open against the local missileich 6262 to cap off a very good week for RBA at the amarg open we had a top 10 clash a next-gen clash with sinner defeating alcaraz who was the defending champion of the tournament six seven six one six one to lift his first clay Court Trophy and at the Atlanta open the official start of the US Open series demenor lifts another trophy in Atlanta defeating Brooksby in the final 6-3-6-3 so as I said the clay Court season is now officially done until next year and the American Hardcore Season is underway let's go have a look at the WTA rankings for this week because we didn't have any changes to the top 10 which fiancek despite losing last week remains number one by a mile conservate she played last week had a bad result but again she stays at number two Zachary at number three but docer at four jabard five sabalenka comes in at six for gawler at seven mugaroo through at eight Collins at nine and rodokanu hangs onto that top 10 spot for another week and most of those names that I just mentioned from Zachary downwards will actually be playing this week so expect some changes next week to the rankings having a look at the race of the finals now and again no changes to the top 10 with fiance still being the only lady to qualify at the top Jaber coming in at two golf stays at three pergola at four Zachary comes in number five kazak Kina is at number six and she's back this week so we'll see how she looks on the hard courts but roster at seven benches at eight kudamatova comes in at nine and Danielle Collins rounds out the top 10 for this week but as I mentioned just like with the top 10 the race of the finals will also start to move again because a lot of those players are playing this week in certain tournaments having a look at the players that went up in the rankings this week and the two winners from last week starting with Garcia she goes up 13 spots number 32 in the world she's had a really good couple of weeks capping it off with a title and obviously beating Eagles fiontech the world number one and boost cover she goes up 20 spots number 46 in the world after winning a title this week so two ladies at one titles surprise surprise they go up in the rankings plays that went down to the rankings we had Russ go down nine spots to 84 in the world and Schmidt lover down 32 spots to 110 in the world so not the big names dropping in the rankings because remember this time last year we actually had the Olympics so nope points drop off because there was no points given at the Olympics last year let's jump over the men's top 10 now and we did have some changes to the top 10 of the men starting with mevidev he stays at number one he's back this week in Mexico to play some tournaments verif stays at two with Rafa coming in at number three but Carlos alcarez after a very good week again last week getting to the final of Croatia he's gone up to a career high number four in the world pushing City pass down to number five and dizzy bass is not playing this week so expect elkres to hold it a spot for a little bit longer and another change with Casper rude dropping down to number seven and making way for Djokovic who hasn't played since Wimbledon but he goes up to number six after rude lost a lot of points from a tournament last year that he didn't decide to play so Djokovic goes up despite not playing and rude drops down because he didn't play coming at number eight is Andre rublev ozelia's team comes in at nine and Yannick sinner after winning a tournament last week in Croatia he stays in number 10 but he closes the gap on those guys above him having a look at the race of the finals and no changes to the top 10 here with Rafa staying number one very close to qualification and the needs to get about 300 points to qualify algress stays at two adds to his total for the final last week City pass at three Ruder number four it's verified five neverdevitt six rube Levitt seven oh Jalia Seaman eight Fritz at number nine and Novak Djokovic is at number 10-4 now but like I keep saying Djokovic is not playing over the US Open series at this stage so he won't be able to add to his total whereas everyone below him will be able to add to their totals and he's not that far ahead of number 11 who's whoby her catch so expect Djokovic maybe to drop out of his top 10 in a few weeks time but no change of this week despite some of those players playing having a look at the players that went up in the rankings that were outside the top 10. Alex dimino he goes up nine spots number 21 in the world after winning a title in Atlanta and Dominic team we're on team watch again he had a good week making a quarterfinal again this week so he goes up 27 spots number 172 in the world still trying to get that top hundred spot which will automatically qualify him to play at the USA open so we'll see team in the next few weeks see how he looks on the hard court but a pretty nice little clay Court run over the last few weeks players that have gone down in the rankings this week Nick curios he's gone down 16 spots number 63 in the world after dropping points from the last couple of years on the American hardcore scene so tough break for kyrgios who could have been in the top 20 had Wimbledon counter for points but now he's outside the top 50 which is really strange to see and Altmeyer he drops down 14 spots to number 79 after dropping points from last year at this time on the clay court so again curios very very unlucky that Wimbledon didn't count for much because his ranking is really suffering and he could really have done with that extra 1200 points so there you have it they are the rankings for another week no real change again I mean the last three weeks since Wimbledon haven't had too many changes in the top 10 mainly because most of the players haven't played over that time and especially on the women's side hardly any of them have played on those clay courts that have happened over the last few weeks but the American season is upon us we have the US Open series no more clay Court no more Grass Court only hardcore from now and the big names are playing but are you shocked about the rankings I'm shocked at curios it's such a shame that he didn't get rewarded for Wimbledon and he deserves to be in the top 20. he believes he's a top 20 player just his ranking doesn't show it and unfortunately he's going to be unseated for the next few weeks until he gets that ranking boosted Maybe by another big result but let me know down in the comments below are you shocked by any of the rankings this week\""
      ]
     },
     "execution_count": 10,
     "metadata": {},
     "output_type": "execute_result"
    }
   ],
   "source": [
    "res\n"
   ]
  },
  {
   "cell_type": "code",
   "execution_count": 16,
   "id": "0b3648f4",
   "metadata": {},
   "outputs": [],
   "source": [
    "from transformers import pipeline"
   ]
  },
  {
   "cell_type": "code",
   "execution_count": 19,
   "id": "c5c6e143",
   "metadata": {},
   "outputs": [
    {
     "name": "stderr",
     "output_type": "stream",
     "text": [
      "No model was supplied, defaulted to sshleifer/distilbart-cnn-12-6 and revision a4f8f3e (https://huggingface.co/sshleifer/distilbart-cnn-12-6).\n",
      "Using a pipeline without specifying a model name and revision in production is not recommended.\n"
     ]
    },
    {
     "data": {
      "application/vnd.jupyter.widget-view+json": {
       "model_id": "1f13a36c85a64613b3ffda36f8c5baf8",
       "version_major": 2,
       "version_minor": 0
      },
      "text/plain": [
       "Downloading pytorch_model.bin:   0%|          | 0.00/1.14G [00:00<?, ?B/s]"
      ]
     },
     "metadata": {},
     "output_type": "display_data"
    },
    {
     "data": {
      "application/vnd.jupyter.widget-view+json": {
       "model_id": "d8c7ae490d3f4d1db8d5da74346a5810",
       "version_major": 2,
       "version_minor": 0
      },
      "text/plain": [
       "Downloading tokenizer_config.json:   0%|          | 0.00/26.0 [00:00<?, ?B/s]"
      ]
     },
     "metadata": {},
     "output_type": "display_data"
    },
    {
     "data": {
      "application/vnd.jupyter.widget-view+json": {
       "model_id": "efa7b604cdd3460cbac3c0219d3da5fa",
       "version_major": 2,
       "version_minor": 0
      },
      "text/plain": [
       "Downloading vocab.json:   0%|          | 0.00/878k [00:00<?, ?B/s]"
      ]
     },
     "metadata": {},
     "output_type": "display_data"
    },
    {
     "data": {
      "application/vnd.jupyter.widget-view+json": {
       "model_id": "79b0dc4a23884b5588cfda449a38a98a",
       "version_major": 2,
       "version_minor": 0
      },
      "text/plain": [
       "Downloading merges.txt:   0%|          | 0.00/446k [00:00<?, ?B/s]"
      ]
     },
     "metadata": {},
     "output_type": "display_data"
    }
   ],
   "source": [
    "suma=pipeline('summarization')"
   ]
  },
  {
   "cell_type": "code",
   "execution_count": 22,
   "id": "e5009a87",
   "metadata": {},
   "outputs": [
    {
     "name": "stdout",
     "output_type": "stream",
     "text": [
      "Summarized text\n",
      " The rankings are in for this week with a couple of changes to the top 10 for the men . Cam Williams says most of the big names haven't played this week so not too many change on the women's side . He says Garcia capped off a very good week for her and she got rewarded in the rankings . Buscova defeated potipova in the first official hardcore match back since March .\n",
      "Summarized text\n",
      " The Austrian open against the local missileich 6262 to cap off a very good week for RBA at the amarg open we had a top 10 clash a next-gen clash with sinner defeating alcaraz who was the defending champion of the tournament six seven six one six one to lift his first clay Court Trophy . At the Atlanta open the official start of the US Open series demenor lifts another trophy in Atlanta defeating Brooksby in the final 6-3-6-3 .\n",
      "Summarized text\n",
      " No changes to the top 10 with fiance still being the only lady to qualify at the top . Most of those names that I just mentioned from Zachary downwards will actually be playing this week so expect some changes next week to the rankings . The race of the finals will also start to move again because a lot of those players are playing in certain tournaments .\n",
      "Summarized text\n",
      " Eagles fiontech goes up 20 spots number 46 in the world after winning a title this week . Russ goes down nine spots to 84 and Schmidt lover goes down 32 spots to 110 in the rankings . Carlos alcarez goes up to a career high number four in the men's top 10 .\n",
      "Summarized text\n",
      " Casper rude drops down to number seven and makes way for Djokovic who hasn't played since Wimbledon but Djokova goes up to number six . Rafa stays at number one very close to qualification and the needs to get about 300 points to qualify . City pass continues to stay at number five and dizzy bass is not playing this week .\n",
      "Summarized text\n",
      " Novak Djokovic is at number 10-4 now but he's not that far ahead of number 11 who's whoby her catch . Dominic team we're on team watch again with Dominic team making a quarterfinal again this week . Alex dimino he goes up nine spots number 21 in the world after winning a title in Atlanta .\n"
     ]
    },
    {
     "name": "stderr",
     "output_type": "stream",
     "text": [
      "Your max_length is set to 142, but you input_length is only 139. You might consider decreasing max_length manually, e.g. summarizer('...', max_length=69)\n"
     ]
    },
    {
     "name": "stdout",
     "output_type": "stream",
     "text": [
      "Summarized text\n",
      " Nick curios has gone down 16 spots number 63 in the world after dropping points from the last couple of years on the American hardcore scene . Nick Altmeyer drops down 14 spots to number 79 after dropping . points from last year at this time on the clay court . Nick Curios very very unlucky that Wimbledon didn't count for much .\n",
      "Summarized text\n",
      " Are you shocked by any of the rankings this week? Let me know down in the comments below . I'm shocked at curios it's such a shame that he didn't get rewarded for Wimbledon . He believes he's a top 20 player just his ranking doesn't show it and will be unseated for the next few weeks .\n"
     ]
    }
   ],
   "source": [
    "num_iters=int(len(res)/1000)\n",
    "summ_text=[]\n",
    "for i in range(0,num_iters+1):\n",
    "    start=0\n",
    "    start=i*1000\n",
    "    end=(i+1)*1000\n",
    "    out=suma(res[start:end])\n",
    "    out=out[0]\n",
    "    out=out['summary_text']\n",
    "    print(\"Summarized text\\n\"+out)\n",
    "    summ_text.append(out)\n",
    "    \n",
    "    "
   ]
  },
  {
   "cell_type": "code",
   "execution_count": 23,
   "id": "f84d7064",
   "metadata": {},
   "outputs": [
    {
     "data": {
      "text/plain": [
       "'[\" The rankings are in for this week with a couple of changes to the top 10 for the men . Cam Williams says most of the big names haven\\'t played this week so not too many change on the women\\'s side . He says Garcia capped off a very good week for her and she got rewarded in the rankings . Buscova defeated potipova in the first official hardcore match back since March .\", \\' The Austrian open against the local missileich 6262 to cap off a very good week for RBA at the amarg open we had a top 10 clash a next-gen clash with sinner defeating alcaraz who was the defending champion of the tournament six seven six one six one to lift his first clay Court Trophy . At the Atlanta open the official start of the US Open series demenor lifts another trophy in Atlanta defeating Brooksby in the final 6-3-6-3 .\\', \\' No changes to the top 10 with fiance still being the only lady to qualify at the top . Most of those names that I just mentioned from Zachary downwards will actually be playing this week so expect some changes next week to the rankings . The race of the finals will also start to move again because a lot of those players are playing in certain tournaments .\\', \" Eagles fiontech goes up 20 spots number 46 in the world after winning a title this week . Russ goes down nine spots to 84 and Schmidt lover goes down 32 spots to 110 in the rankings . Carlos alcarez goes up to a career high number four in the men\\'s top 10 .\", \" Casper rude drops down to number seven and makes way for Djokovic who hasn\\'t played since Wimbledon but Djokova goes up to number six . Rafa stays at number one very close to qualification and the needs to get about 300 points to qualify . City pass continues to stay at number five and dizzy bass is not playing this week .\", \" Novak Djokovic is at number 10-4 now but he\\'s not that far ahead of number 11 who\\'s whoby her catch . Dominic team we\\'re on team watch again with Dominic team making a quarterfinal again this week . Alex dimino he goes up nine spots number 21 in the world after winning a title in Atlanta .\", \" Nick curios has gone down 16 spots number 63 in the world after dropping points from the last couple of years on the American hardcore scene . Nick Altmeyer drops down 14 spots to number 79 after dropping . points from last year at this time on the clay court . Nick Curios very very unlucky that Wimbledon didn\\'t count for much .\", \" Are you shocked by any of the rankings this week? Let me know down in the comments below . I\\'m shocked at curios it\\'s such a shame that he didn\\'t get rewarded for Wimbledon . He believes he\\'s a top 20 player just his ranking doesn\\'t show it and will be unseated for the next few weeks .\"]'"
      ]
     },
     "execution_count": 23,
     "metadata": {},
     "output_type": "execute_result"
    }
   ],
   "source": [
    "str(summ_text)"
   ]
  },
  {
   "cell_type": "code",
   "execution_count": null,
   "id": "c48d3913",
   "metadata": {},
   "outputs": [],
   "source": []
  }
 ],
 "metadata": {
  "kernelspec": {
   "display_name": "Python 3 (ipykernel)",
   "language": "python",
   "name": "python3"
  },
  "language_info": {
   "codemirror_mode": {
    "name": "ipython",
    "version": 3
   },
   "file_extension": ".py",
   "mimetype": "text/x-python",
   "name": "python",
   "nbconvert_exporter": "python",
   "pygments_lexer": "ipython3",
   "version": "3.9.12"
  }
 },
 "nbformat": 4,
 "nbformat_minor": 5
}
